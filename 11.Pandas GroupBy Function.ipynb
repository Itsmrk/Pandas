{
 "cells": [
  {
   "cell_type": "markdown",
   "metadata": {},
   "source": [
    "# Pandas groupby Function \n",
    "### pandas groupby function is used to split the data into groups based on some criteria\n",
    "### Syntax : DataFrame.groupby()\n",
    "## GroupBy Operations:\n",
    "### Splitting the object , Applying a function , Combining the result"
   ]
  },
  {
   "cell_type": "code",
   "execution_count": 1,
   "metadata": {},
   "outputs": [],
   "source": [
    "import pandas as pd "
   ]
  },
  {
   "cell_type": "code",
   "execution_count": 2,
   "metadata": {},
   "outputs": [
    {
     "data": {
      "text/html": [
       "<div>\n",
       "<style scoped>\n",
       "    .dataframe tbody tr th:only-of-type {\n",
       "        vertical-align: middle;\n",
       "    }\n",
       "\n",
       "    .dataframe tbody tr th {\n",
       "        vertical-align: top;\n",
       "    }\n",
       "\n",
       "    .dataframe thead th {\n",
       "        text-align: right;\n",
       "    }\n",
       "</style>\n",
       "<table border=\"1\" class=\"dataframe\">\n",
       "  <thead>\n",
       "    <tr style=\"text-align: right;\">\n",
       "      <th></th>\n",
       "      <th>Date</th>\n",
       "      <th>Std ID</th>\n",
       "      <th>Class</th>\n",
       "      <th>Study hr</th>\n",
       "      <th>Percentage</th>\n",
       "    </tr>\n",
       "  </thead>\n",
       "  <tbody>\n",
       "    <tr>\n",
       "      <td>0</td>\n",
       "      <td>1/1/2003</td>\n",
       "      <td>1001.0</td>\n",
       "      <td>10</td>\n",
       "      <td>2.0</td>\n",
       "      <td>50.0</td>\n",
       "    </tr>\n",
       "    <tr>\n",
       "      <td>1</td>\n",
       "      <td>1/2/2003</td>\n",
       "      <td>1002.0</td>\n",
       "      <td>10</td>\n",
       "      <td>NaN</td>\n",
       "      <td>60.0</td>\n",
       "    </tr>\n",
       "    <tr>\n",
       "      <td>2</td>\n",
       "      <td>1/3/2003</td>\n",
       "      <td>NaN</td>\n",
       "      <td>10</td>\n",
       "      <td>3.0</td>\n",
       "      <td>80.0</td>\n",
       "    </tr>\n",
       "    <tr>\n",
       "      <td>3</td>\n",
       "      <td>1/4/2003</td>\n",
       "      <td>NaN</td>\n",
       "      <td>11</td>\n",
       "      <td>0.0</td>\n",
       "      <td>NaN</td>\n",
       "    </tr>\n",
       "    <tr>\n",
       "      <td>4</td>\n",
       "      <td>1/5/2003</td>\n",
       "      <td>1005.0</td>\n",
       "      <td>11</td>\n",
       "      <td>4.0</td>\n",
       "      <td>NaN</td>\n",
       "    </tr>\n",
       "    <tr>\n",
       "      <td>5</td>\n",
       "      <td>1/6/2003</td>\n",
       "      <td>NaN</td>\n",
       "      <td>11</td>\n",
       "      <td>10.0</td>\n",
       "      <td>80.0</td>\n",
       "    </tr>\n",
       "    <tr>\n",
       "      <td>6</td>\n",
       "      <td>1/7/2003</td>\n",
       "      <td>1007.0</td>\n",
       "      <td>12</td>\n",
       "      <td>4.0</td>\n",
       "      <td>90.0</td>\n",
       "    </tr>\n",
       "    <tr>\n",
       "      <td>7</td>\n",
       "      <td>1/8/2003</td>\n",
       "      <td>1008.0</td>\n",
       "      <td>12</td>\n",
       "      <td>NaN</td>\n",
       "      <td>60.0</td>\n",
       "    </tr>\n",
       "    <tr>\n",
       "      <td>8</td>\n",
       "      <td>1/9/2003</td>\n",
       "      <td>1009.0</td>\n",
       "      <td>12</td>\n",
       "      <td>NaN</td>\n",
       "      <td>85.0</td>\n",
       "    </tr>\n",
       "    <tr>\n",
       "      <td>9</td>\n",
       "      <td>1/10/2003</td>\n",
       "      <td>1010.0</td>\n",
       "      <td>12</td>\n",
       "      <td>NaN</td>\n",
       "      <td>NaN</td>\n",
       "    </tr>\n",
       "    <tr>\n",
       "      <td>10</td>\n",
       "      <td>1/11/2003</td>\n",
       "      <td>1011.0</td>\n",
       "      <td>12</td>\n",
       "      <td>6.0</td>\n",
       "      <td>50.0</td>\n",
       "    </tr>\n",
       "  </tbody>\n",
       "</table>\n",
       "</div>"
      ],
      "text/plain": [
       "         Date  Std ID  Class  Study hr  Percentage\n",
       "0    1/1/2003  1001.0     10       2.0        50.0\n",
       "1    1/2/2003  1002.0     10       NaN        60.0\n",
       "2    1/3/2003     NaN     10       3.0        80.0\n",
       "3    1/4/2003     NaN     11       0.0         NaN\n",
       "4    1/5/2003  1005.0     11       4.0         NaN\n",
       "5    1/6/2003     NaN     11      10.0        80.0\n",
       "6    1/7/2003  1007.0     12       4.0        90.0\n",
       "7    1/8/2003  1008.0     12       NaN        60.0\n",
       "8    1/9/2003  1009.0     12       NaN        85.0\n",
       "9   1/10/2003  1010.0     12       NaN         NaN\n",
       "10  1/11/2003  1011.0     12       6.0        50.0"
      ]
     },
     "execution_count": 2,
     "metadata": {},
     "output_type": "execute_result"
    }
   ],
   "source": [
    "df = pd.read_csv(\"C:\\\\Users\\IT's MRK\\Desktop\\Learning\\Pandas\\Book4.csv\")\n",
    "df"
   ]
  },
  {
   "cell_type": "code",
   "execution_count": 4,
   "metadata": {},
   "outputs": [
    {
     "data": {
      "text/plain": [
       "<pandas.core.groupby.generic.DataFrameGroupBy object at 0x0000028EBE434B48>"
      ]
     },
     "execution_count": 4,
     "metadata": {},
     "output_type": "execute_result"
    }
   ],
   "source": [
    "grp1 = df.groupby(by = 'Class')\n",
    "grp1"
   ]
  },
  {
   "cell_type": "code",
   "execution_count": 5,
   "metadata": {},
   "outputs": [
    {
     "data": {
      "text/plain": [
       "{10: Int64Index([0, 1, 2], dtype='int64'),\n",
       " 11: Int64Index([3, 4, 5], dtype='int64'),\n",
       " 12: Int64Index([6, 7, 8, 9, 10], dtype='int64')}"
      ]
     },
     "execution_count": 5,
     "metadata": {},
     "output_type": "execute_result"
    }
   ],
   "source": [
    "grp1.groups"
   ]
  },
  {
   "cell_type": "code",
   "execution_count": 22,
   "metadata": {},
   "outputs": [
    {
     "data": {
      "text/plain": [
       "{50.0: Int64Index([0, 10], dtype='int64'),\n",
       " 60.0: Int64Index([1, 7], dtype='int64'),\n",
       " 80.0: Int64Index([2, 5], dtype='int64'),\n",
       " 85.0: Int64Index([8], dtype='int64'),\n",
       " 90.0: Int64Index([6], dtype='int64')}"
      ]
     },
     "execution_count": 22,
     "metadata": {},
     "output_type": "execute_result"
    }
   ],
   "source": [
    "grp2 = df.groupby(by = 'Percentage').groups\n",
    "grp2"
   ]
  },
  {
   "cell_type": "code",
   "execution_count": 9,
   "metadata": {},
   "outputs": [
    {
     "data": {
      "text/plain": [
       "<pandas.core.groupby.generic.DataFrameGroupBy object at 0x0000028EBE448C88>"
      ]
     },
     "execution_count": 9,
     "metadata": {},
     "output_type": "execute_result"
    }
   ],
   "source": [
    "grp1 = df.groupby(['Class','Percentage'])\n",
    "grp1"
   ]
  },
  {
   "cell_type": "code",
   "execution_count": 16,
   "metadata": {},
   "outputs": [
    {
     "data": {
      "text/plain": [
       "{(10, 50.0): Int64Index([0], dtype='int64'),\n",
       " (10, 60.0): Int64Index([1], dtype='int64'),\n",
       " (10, 80.0): Int64Index([2], dtype='int64'),\n",
       " (11, nan): Int64Index([3], dtype='int64'),\n",
       " (11, nan): Int64Index([4], dtype='int64'),\n",
       " (11, 80.0): Int64Index([5], dtype='int64'),\n",
       " (12, 60.0): Int64Index([7], dtype='int64'),\n",
       " (12, 85.0): Int64Index([8], dtype='int64'),\n",
       " (12, 90.0): Int64Index([6], dtype='int64'),\n",
       " (12, nan): Int64Index([9], dtype='int64'),\n",
       " (12, 50.0): Int64Index([10], dtype='int64')}"
      ]
     },
     "execution_count": 16,
     "metadata": {},
     "output_type": "execute_result"
    }
   ],
   "source": [
    "grp1 = df.groupby(['Class','Percentage']).groups\n",
    "grp1"
   ]
  },
  {
   "cell_type": "code",
   "execution_count": 18,
   "metadata": {},
   "outputs": [
    {
     "name": "stdout",
     "output_type": "stream",
     "text": [
      "10\n",
      "50.0\n",
      "10\n",
      "60.0\n",
      "10\n",
      "80.0\n",
      "11\n",
      "nan\n",
      "11\n",
      "nan\n",
      "11\n",
      "80.0\n",
      "12\n",
      "60.0\n",
      "12\n",
      "85.0\n",
      "12\n",
      "90.0\n",
      "12\n",
      "nan\n",
      "12\n",
      "50.0\n"
     ]
    }
   ],
   "source": [
    "for Percentage, df_1 in grp1:\n",
    "    print(Percentage)\n",
    "    print(df_1)"
   ]
  },
  {
   "cell_type": "code",
   "execution_count": 24,
   "metadata": {},
   "outputs": [
    {
     "data": {
      "text/plain": [
       "<pandas.core.groupby.generic.DataFrameGroupBy object at 0x0000028EBE4628C8>"
      ]
     },
     "execution_count": 24,
     "metadata": {},
     "output_type": "execute_result"
    }
   ],
   "source": [
    "grp1 = df.groupby(by = 'Class')\n",
    "grp1"
   ]
  },
  {
   "cell_type": "code",
   "execution_count": 25,
   "metadata": {},
   "outputs": [
    {
     "name": "stdout",
     "output_type": "stream",
     "text": [
      "10\n",
      "       Date  Std ID  Class  Study hr  Percentage\n",
      "0  1/1/2003  1001.0     10       2.0        50.0\n",
      "1  1/2/2003  1002.0     10       NaN        60.0\n",
      "2  1/3/2003     NaN     10       3.0        80.0\n",
      "11\n",
      "       Date  Std ID  Class  Study hr  Percentage\n",
      "3  1/4/2003     NaN     11       0.0         NaN\n",
      "4  1/5/2003  1005.0     11       4.0         NaN\n",
      "5  1/6/2003     NaN     11      10.0        80.0\n",
      "12\n",
      "         Date  Std ID  Class  Study hr  Percentage\n",
      "6    1/7/2003  1007.0     12       4.0        90.0\n",
      "7    1/8/2003  1008.0     12       NaN        60.0\n",
      "8    1/9/2003  1009.0     12       NaN        85.0\n",
      "9   1/10/2003  1010.0     12       NaN         NaN\n",
      "10  1/11/2003  1011.0     12       6.0        50.0\n"
     ]
    }
   ],
   "source": [
    "for Class, df_1 in grp1:\n",
    "    print(Class)\n",
    "    print(df_1)"
   ]
  },
  {
   "cell_type": "code",
   "execution_count": 27,
   "metadata": {},
   "outputs": [
    {
     "data": {
      "text/plain": [
       "[(10,        Date  Std ID  Class  Study hr  Percentage\n",
       "  0  1/1/2003  1001.0     10       2.0        50.0\n",
       "  1  1/2/2003  1002.0     10       NaN        60.0\n",
       "  2  1/3/2003     NaN     10       3.0        80.0),\n",
       " (11,        Date  Std ID  Class  Study hr  Percentage\n",
       "  3  1/4/2003     NaN     11       0.0         NaN\n",
       "  4  1/5/2003  1005.0     11       4.0         NaN\n",
       "  5  1/6/2003     NaN     11      10.0        80.0),\n",
       " (12,          Date  Std ID  Class  Study hr  Percentage\n",
       "  6    1/7/2003  1007.0     12       4.0        90.0\n",
       "  7    1/8/2003  1008.0     12       NaN        60.0\n",
       "  8    1/9/2003  1009.0     12       NaN        85.0\n",
       "  9   1/10/2003  1010.0     12       NaN         NaN\n",
       "  10  1/11/2003  1011.0     12       6.0        50.0)]"
      ]
     },
     "execution_count": 27,
     "metadata": {},
     "output_type": "execute_result"
    }
   ],
   "source": [
    "list(grp1)"
   ]
  },
  {
   "cell_type": "code",
   "execution_count": 29,
   "metadata": {},
   "outputs": [
    {
     "data": {
      "text/plain": [
       "{10:        Date  Std ID  Class  Study hr  Percentage\n",
       " 0  1/1/2003  1001.0     10       2.0        50.0\n",
       " 1  1/2/2003  1002.0     10       NaN        60.0\n",
       " 2  1/3/2003     NaN     10       3.0        80.0,\n",
       " 11:        Date  Std ID  Class  Study hr  Percentage\n",
       " 3  1/4/2003     NaN     11       0.0         NaN\n",
       " 4  1/5/2003  1005.0     11       4.0         NaN\n",
       " 5  1/6/2003     NaN     11      10.0        80.0,\n",
       " 12:          Date  Std ID  Class  Study hr  Percentage\n",
       " 6    1/7/2003  1007.0     12       4.0        90.0\n",
       " 7    1/8/2003  1008.0     12       NaN        60.0\n",
       " 8    1/9/2003  1009.0     12       NaN        85.0\n",
       " 9   1/10/2003  1010.0     12       NaN         NaN\n",
       " 10  1/11/2003  1011.0     12       6.0        50.0}"
      ]
     },
     "execution_count": 29,
     "metadata": {},
     "output_type": "execute_result"
    }
   ],
   "source": [
    "dict(list(grp1))"
   ]
  },
  {
   "cell_type": "code",
   "execution_count": 32,
   "metadata": {},
   "outputs": [
    {
     "data": {
      "text/html": [
       "<div>\n",
       "<style scoped>\n",
       "    .dataframe tbody tr th:only-of-type {\n",
       "        vertical-align: middle;\n",
       "    }\n",
       "\n",
       "    .dataframe tbody tr th {\n",
       "        vertical-align: top;\n",
       "    }\n",
       "\n",
       "    .dataframe thead th {\n",
       "        text-align: right;\n",
       "    }\n",
       "</style>\n",
       "<table border=\"1\" class=\"dataframe\">\n",
       "  <thead>\n",
       "    <tr style=\"text-align: right;\">\n",
       "      <th></th>\n",
       "      <th>Date</th>\n",
       "      <th>Std ID</th>\n",
       "      <th>Class</th>\n",
       "      <th>Study hr</th>\n",
       "      <th>Percentage</th>\n",
       "    </tr>\n",
       "  </thead>\n",
       "  <tbody>\n",
       "    <tr>\n",
       "      <td>0</td>\n",
       "      <td>1/1/2003</td>\n",
       "      <td>1001.0</td>\n",
       "      <td>10</td>\n",
       "      <td>2.0</td>\n",
       "      <td>50.0</td>\n",
       "    </tr>\n",
       "    <tr>\n",
       "      <td>1</td>\n",
       "      <td>1/2/2003</td>\n",
       "      <td>1002.0</td>\n",
       "      <td>10</td>\n",
       "      <td>NaN</td>\n",
       "      <td>60.0</td>\n",
       "    </tr>\n",
       "    <tr>\n",
       "      <td>2</td>\n",
       "      <td>1/3/2003</td>\n",
       "      <td>NaN</td>\n",
       "      <td>10</td>\n",
       "      <td>3.0</td>\n",
       "      <td>80.0</td>\n",
       "    </tr>\n",
       "  </tbody>\n",
       "</table>\n",
       "</div>"
      ],
      "text/plain": [
       "       Date  Std ID  Class  Study hr  Percentage\n",
       "0  1/1/2003  1001.0     10       2.0        50.0\n",
       "1  1/2/2003  1002.0     10       NaN        60.0\n",
       "2  1/3/2003     NaN     10       3.0        80.0"
      ]
     },
     "execution_count": 32,
     "metadata": {},
     "output_type": "execute_result"
    }
   ],
   "source": [
    "grp3 = df.groupby('Class').get_group(10)\n",
    "grp3"
   ]
  },
  {
   "cell_type": "code",
   "execution_count": 33,
   "metadata": {},
   "outputs": [
    {
     "data": {
      "text/html": [
       "<div>\n",
       "<style scoped>\n",
       "    .dataframe tbody tr th:only-of-type {\n",
       "        vertical-align: middle;\n",
       "    }\n",
       "\n",
       "    .dataframe tbody tr th {\n",
       "        vertical-align: top;\n",
       "    }\n",
       "\n",
       "    .dataframe thead th {\n",
       "        text-align: right;\n",
       "    }\n",
       "</style>\n",
       "<table border=\"1\" class=\"dataframe\">\n",
       "  <thead>\n",
       "    <tr style=\"text-align: right;\">\n",
       "      <th></th>\n",
       "      <th>Date</th>\n",
       "      <th>Std ID</th>\n",
       "      <th>Class</th>\n",
       "      <th>Study hr</th>\n",
       "      <th>Percentage</th>\n",
       "    </tr>\n",
       "  </thead>\n",
       "  <tbody>\n",
       "    <tr>\n",
       "      <td>0</td>\n",
       "      <td>1/1/2003</td>\n",
       "      <td>1001.0</td>\n",
       "      <td>10</td>\n",
       "      <td>2.0</td>\n",
       "      <td>50.0</td>\n",
       "    </tr>\n",
       "    <tr>\n",
       "      <td>10</td>\n",
       "      <td>1/11/2003</td>\n",
       "      <td>1011.0</td>\n",
       "      <td>12</td>\n",
       "      <td>6.0</td>\n",
       "      <td>50.0</td>\n",
       "    </tr>\n",
       "  </tbody>\n",
       "</table>\n",
       "</div>"
      ],
      "text/plain": [
       "         Date  Std ID  Class  Study hr  Percentage\n",
       "0    1/1/2003  1001.0     10       2.0        50.0\n",
       "10  1/11/2003  1011.0     12       6.0        50.0"
      ]
     },
     "execution_count": 33,
     "metadata": {},
     "output_type": "execute_result"
    }
   ],
   "source": [
    "grp3 = df.groupby('Percentage').get_group(50)\n",
    "grp3"
   ]
  },
  {
   "cell_type": "code",
   "execution_count": 34,
   "metadata": {},
   "outputs": [
    {
     "data": {
      "text/html": [
       "<div>\n",
       "<style scoped>\n",
       "    .dataframe tbody tr th:only-of-type {\n",
       "        vertical-align: middle;\n",
       "    }\n",
       "\n",
       "    .dataframe tbody tr th {\n",
       "        vertical-align: top;\n",
       "    }\n",
       "\n",
       "    .dataframe thead th {\n",
       "        text-align: right;\n",
       "    }\n",
       "</style>\n",
       "<table border=\"1\" class=\"dataframe\">\n",
       "  <thead>\n",
       "    <tr style=\"text-align: right;\">\n",
       "      <th></th>\n",
       "      <th>Std ID</th>\n",
       "      <th>Study hr</th>\n",
       "      <th>Percentage</th>\n",
       "    </tr>\n",
       "    <tr>\n",
       "      <th>Class</th>\n",
       "      <th></th>\n",
       "      <th></th>\n",
       "      <th></th>\n",
       "    </tr>\n",
       "  </thead>\n",
       "  <tbody>\n",
       "    <tr>\n",
       "      <td>10</td>\n",
       "      <td>2003.0</td>\n",
       "      <td>5.0</td>\n",
       "      <td>190.0</td>\n",
       "    </tr>\n",
       "    <tr>\n",
       "      <td>11</td>\n",
       "      <td>1005.0</td>\n",
       "      <td>14.0</td>\n",
       "      <td>80.0</td>\n",
       "    </tr>\n",
       "    <tr>\n",
       "      <td>12</td>\n",
       "      <td>5045.0</td>\n",
       "      <td>10.0</td>\n",
       "      <td>285.0</td>\n",
       "    </tr>\n",
       "  </tbody>\n",
       "</table>\n",
       "</div>"
      ],
      "text/plain": [
       "       Std ID  Study hr  Percentage\n",
       "Class                              \n",
       "10     2003.0       5.0       190.0\n",
       "11     1005.0      14.0        80.0\n",
       "12     5045.0      10.0       285.0"
      ]
     },
     "execution_count": 34,
     "metadata": {},
     "output_type": "execute_result"
    }
   ],
   "source": [
    "grp1.sum()"
   ]
  },
  {
   "cell_type": "code",
   "execution_count": 35,
   "metadata": {},
   "outputs": [
    {
     "data": {
      "text/html": [
       "<div>\n",
       "<style scoped>\n",
       "    .dataframe tbody tr th:only-of-type {\n",
       "        vertical-align: middle;\n",
       "    }\n",
       "\n",
       "    .dataframe tbody tr th {\n",
       "        vertical-align: top;\n",
       "    }\n",
       "\n",
       "    .dataframe thead th {\n",
       "        text-align: right;\n",
       "    }\n",
       "</style>\n",
       "<table border=\"1\" class=\"dataframe\">\n",
       "  <thead>\n",
       "    <tr style=\"text-align: right;\">\n",
       "      <th></th>\n",
       "      <th>Std ID</th>\n",
       "      <th>Study hr</th>\n",
       "      <th>Percentage</th>\n",
       "    </tr>\n",
       "    <tr>\n",
       "      <th>Class</th>\n",
       "      <th></th>\n",
       "      <th></th>\n",
       "      <th></th>\n",
       "    </tr>\n",
       "  </thead>\n",
       "  <tbody>\n",
       "    <tr>\n",
       "      <td>10</td>\n",
       "      <td>1001.5</td>\n",
       "      <td>2.500000</td>\n",
       "      <td>63.333333</td>\n",
       "    </tr>\n",
       "    <tr>\n",
       "      <td>11</td>\n",
       "      <td>1005.0</td>\n",
       "      <td>4.666667</td>\n",
       "      <td>80.000000</td>\n",
       "    </tr>\n",
       "    <tr>\n",
       "      <td>12</td>\n",
       "      <td>1009.0</td>\n",
       "      <td>5.000000</td>\n",
       "      <td>71.250000</td>\n",
       "    </tr>\n",
       "  </tbody>\n",
       "</table>\n",
       "</div>"
      ],
      "text/plain": [
       "       Std ID  Study hr  Percentage\n",
       "Class                              \n",
       "10     1001.5  2.500000   63.333333\n",
       "11     1005.0  4.666667   80.000000\n",
       "12     1009.0  5.000000   71.250000"
      ]
     },
     "execution_count": 35,
     "metadata": {},
     "output_type": "execute_result"
    }
   ],
   "source": [
    "grp1.mean()"
   ]
  },
  {
   "cell_type": "code",
   "execution_count": 36,
   "metadata": {},
   "outputs": [
    {
     "data": {
      "text/html": [
       "<div>\n",
       "<style scoped>\n",
       "    .dataframe tbody tr th:only-of-type {\n",
       "        vertical-align: middle;\n",
       "    }\n",
       "\n",
       "    .dataframe tbody tr th {\n",
       "        vertical-align: top;\n",
       "    }\n",
       "\n",
       "    .dataframe thead tr th {\n",
       "        text-align: left;\n",
       "    }\n",
       "\n",
       "    .dataframe thead tr:last-of-type th {\n",
       "        text-align: right;\n",
       "    }\n",
       "</style>\n",
       "<table border=\"1\" class=\"dataframe\">\n",
       "  <thead>\n",
       "    <tr>\n",
       "      <th></th>\n",
       "      <th colspan=\"8\" halign=\"left\">Std ID</th>\n",
       "      <th colspan=\"5\" halign=\"left\">Study hr</th>\n",
       "      <th colspan=\"8\" halign=\"left\">Percentage</th>\n",
       "    </tr>\n",
       "    <tr>\n",
       "      <th></th>\n",
       "      <th>count</th>\n",
       "      <th>mean</th>\n",
       "      <th>std</th>\n",
       "      <th>min</th>\n",
       "      <th>25%</th>\n",
       "      <th>50%</th>\n",
       "      <th>75%</th>\n",
       "      <th>max</th>\n",
       "      <th>count</th>\n",
       "      <th>mean</th>\n",
       "      <th>...</th>\n",
       "      <th>75%</th>\n",
       "      <th>max</th>\n",
       "      <th>count</th>\n",
       "      <th>mean</th>\n",
       "      <th>std</th>\n",
       "      <th>min</th>\n",
       "      <th>25%</th>\n",
       "      <th>50%</th>\n",
       "      <th>75%</th>\n",
       "      <th>max</th>\n",
       "    </tr>\n",
       "    <tr>\n",
       "      <th>Class</th>\n",
       "      <th></th>\n",
       "      <th></th>\n",
       "      <th></th>\n",
       "      <th></th>\n",
       "      <th></th>\n",
       "      <th></th>\n",
       "      <th></th>\n",
       "      <th></th>\n",
       "      <th></th>\n",
       "      <th></th>\n",
       "      <th></th>\n",
       "      <th></th>\n",
       "      <th></th>\n",
       "      <th></th>\n",
       "      <th></th>\n",
       "      <th></th>\n",
       "      <th></th>\n",
       "      <th></th>\n",
       "      <th></th>\n",
       "      <th></th>\n",
       "      <th></th>\n",
       "    </tr>\n",
       "  </thead>\n",
       "  <tbody>\n",
       "    <tr>\n",
       "      <td>10</td>\n",
       "      <td>2.0</td>\n",
       "      <td>1001.5</td>\n",
       "      <td>0.707107</td>\n",
       "      <td>1001.0</td>\n",
       "      <td>1001.25</td>\n",
       "      <td>1001.5</td>\n",
       "      <td>1001.75</td>\n",
       "      <td>1002.0</td>\n",
       "      <td>2.0</td>\n",
       "      <td>2.500000</td>\n",
       "      <td>...</td>\n",
       "      <td>2.75</td>\n",
       "      <td>3.0</td>\n",
       "      <td>3.0</td>\n",
       "      <td>63.333333</td>\n",
       "      <td>15.275252</td>\n",
       "      <td>50.0</td>\n",
       "      <td>55.0</td>\n",
       "      <td>60.0</td>\n",
       "      <td>70.00</td>\n",
       "      <td>80.0</td>\n",
       "    </tr>\n",
       "    <tr>\n",
       "      <td>11</td>\n",
       "      <td>1.0</td>\n",
       "      <td>1005.0</td>\n",
       "      <td>NaN</td>\n",
       "      <td>1005.0</td>\n",
       "      <td>1005.00</td>\n",
       "      <td>1005.0</td>\n",
       "      <td>1005.00</td>\n",
       "      <td>1005.0</td>\n",
       "      <td>3.0</td>\n",
       "      <td>4.666667</td>\n",
       "      <td>...</td>\n",
       "      <td>7.00</td>\n",
       "      <td>10.0</td>\n",
       "      <td>1.0</td>\n",
       "      <td>80.000000</td>\n",
       "      <td>NaN</td>\n",
       "      <td>80.0</td>\n",
       "      <td>80.0</td>\n",
       "      <td>80.0</td>\n",
       "      <td>80.00</td>\n",
       "      <td>80.0</td>\n",
       "    </tr>\n",
       "    <tr>\n",
       "      <td>12</td>\n",
       "      <td>5.0</td>\n",
       "      <td>1009.0</td>\n",
       "      <td>1.581139</td>\n",
       "      <td>1007.0</td>\n",
       "      <td>1008.00</td>\n",
       "      <td>1009.0</td>\n",
       "      <td>1010.00</td>\n",
       "      <td>1011.0</td>\n",
       "      <td>2.0</td>\n",
       "      <td>5.000000</td>\n",
       "      <td>...</td>\n",
       "      <td>5.50</td>\n",
       "      <td>6.0</td>\n",
       "      <td>4.0</td>\n",
       "      <td>71.250000</td>\n",
       "      <td>19.311050</td>\n",
       "      <td>50.0</td>\n",
       "      <td>57.5</td>\n",
       "      <td>72.5</td>\n",
       "      <td>86.25</td>\n",
       "      <td>90.0</td>\n",
       "    </tr>\n",
       "  </tbody>\n",
       "</table>\n",
       "<p>3 rows × 24 columns</p>\n",
       "</div>"
      ],
      "text/plain": [
       "      Std ID                                                              \\\n",
       "       count    mean       std     min      25%     50%      75%     max   \n",
       "Class                                                                      \n",
       "10       2.0  1001.5  0.707107  1001.0  1001.25  1001.5  1001.75  1002.0   \n",
       "11       1.0  1005.0       NaN  1005.0  1005.00  1005.0  1005.00  1005.0   \n",
       "12       5.0  1009.0  1.581139  1007.0  1008.00  1009.0  1010.00  1011.0   \n",
       "\n",
       "      Study hr            ...             Percentage                        \\\n",
       "         count      mean  ...   75%   max      count       mean        std   \n",
       "Class                     ...                                                \n",
       "10         2.0  2.500000  ...  2.75   3.0        3.0  63.333333  15.275252   \n",
       "11         3.0  4.666667  ...  7.00  10.0        1.0  80.000000        NaN   \n",
       "12         2.0  5.000000  ...  5.50   6.0        4.0  71.250000  19.311050   \n",
       "\n",
       "                                      \n",
       "        min   25%   50%    75%   max  \n",
       "Class                                 \n",
       "10     50.0  55.0  60.0  70.00  80.0  \n",
       "11     80.0  80.0  80.0  80.00  80.0  \n",
       "12     50.0  57.5  72.5  86.25  90.0  \n",
       "\n",
       "[3 rows x 24 columns]"
      ]
     },
     "execution_count": 36,
     "metadata": {},
     "output_type": "execute_result"
    }
   ],
   "source": [
    "grp1.describe()"
   ]
  },
  {
   "cell_type": "code",
   "execution_count": 37,
   "metadata": {},
   "outputs": [
    {
     "data": {
      "text/html": [
       "<div>\n",
       "<style scoped>\n",
       "    .dataframe tbody tr th:only-of-type {\n",
       "        vertical-align: middle;\n",
       "    }\n",
       "\n",
       "    .dataframe tbody tr th {\n",
       "        vertical-align: top;\n",
       "    }\n",
       "\n",
       "    .dataframe thead tr th {\n",
       "        text-align: left;\n",
       "    }\n",
       "\n",
       "    .dataframe thead tr:last-of-type th {\n",
       "        text-align: right;\n",
       "    }\n",
       "</style>\n",
       "<table border=\"1\" class=\"dataframe\">\n",
       "  <thead>\n",
       "    <tr>\n",
       "      <th></th>\n",
       "      <th colspan=\"3\" halign=\"left\">Std ID</th>\n",
       "      <th colspan=\"3\" halign=\"left\">Study hr</th>\n",
       "      <th colspan=\"3\" halign=\"left\">Percentage</th>\n",
       "    </tr>\n",
       "    <tr>\n",
       "      <th></th>\n",
       "      <th>sum</th>\n",
       "      <th>max</th>\n",
       "      <th>mean</th>\n",
       "      <th>sum</th>\n",
       "      <th>max</th>\n",
       "      <th>mean</th>\n",
       "      <th>sum</th>\n",
       "      <th>max</th>\n",
       "      <th>mean</th>\n",
       "    </tr>\n",
       "    <tr>\n",
       "      <th>Class</th>\n",
       "      <th></th>\n",
       "      <th></th>\n",
       "      <th></th>\n",
       "      <th></th>\n",
       "      <th></th>\n",
       "      <th></th>\n",
       "      <th></th>\n",
       "      <th></th>\n",
       "      <th></th>\n",
       "    </tr>\n",
       "  </thead>\n",
       "  <tbody>\n",
       "    <tr>\n",
       "      <td>10</td>\n",
       "      <td>2003.0</td>\n",
       "      <td>1002.0</td>\n",
       "      <td>1001.5</td>\n",
       "      <td>5.0</td>\n",
       "      <td>3.0</td>\n",
       "      <td>2.500000</td>\n",
       "      <td>190.0</td>\n",
       "      <td>80.0</td>\n",
       "      <td>63.333333</td>\n",
       "    </tr>\n",
       "    <tr>\n",
       "      <td>11</td>\n",
       "      <td>1005.0</td>\n",
       "      <td>1005.0</td>\n",
       "      <td>1005.0</td>\n",
       "      <td>14.0</td>\n",
       "      <td>10.0</td>\n",
       "      <td>4.666667</td>\n",
       "      <td>80.0</td>\n",
       "      <td>80.0</td>\n",
       "      <td>80.000000</td>\n",
       "    </tr>\n",
       "    <tr>\n",
       "      <td>12</td>\n",
       "      <td>5045.0</td>\n",
       "      <td>1011.0</td>\n",
       "      <td>1009.0</td>\n",
       "      <td>10.0</td>\n",
       "      <td>6.0</td>\n",
       "      <td>5.000000</td>\n",
       "      <td>285.0</td>\n",
       "      <td>90.0</td>\n",
       "      <td>71.250000</td>\n",
       "    </tr>\n",
       "  </tbody>\n",
       "</table>\n",
       "</div>"
      ],
      "text/plain": [
       "       Std ID                 Study hr                 Percentage        \\\n",
       "          sum     max    mean      sum   max      mean        sum   max   \n",
       "Class                                                                     \n",
       "10     2003.0  1002.0  1001.5      5.0   3.0  2.500000      190.0  80.0   \n",
       "11     1005.0  1005.0  1005.0     14.0  10.0  4.666667       80.0  80.0   \n",
       "12     5045.0  1011.0  1009.0     10.0   6.0  5.000000      285.0  90.0   \n",
       "\n",
       "                  \n",
       "            mean  \n",
       "Class             \n",
       "10     63.333333  \n",
       "11     80.000000  \n",
       "12     71.250000  "
      ]
     },
     "execution_count": 37,
     "metadata": {},
     "output_type": "execute_result"
    }
   ],
   "source": [
    "grp1.agg(['sum','max','mean']) # aggregate"
   ]
  },
  {
   "cell_type": "code",
   "execution_count": null,
   "metadata": {},
   "outputs": [],
   "source": []
  }
 ],
 "metadata": {
  "kernelspec": {
   "display_name": "Python 3",
   "language": "python",
   "name": "python3"
  },
  "language_info": {
   "codemirror_mode": {
    "name": "ipython",
    "version": 3
   },
   "file_extension": ".py",
   "mimetype": "text/x-python",
   "name": "python",
   "nbconvert_exporter": "python",
   "pygments_lexer": "ipython3",
   "version": "3.7.4"
  }
 },
 "nbformat": 4,
 "nbformat_minor": 2
}
